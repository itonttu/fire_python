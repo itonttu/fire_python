{
 "cells": [
  {
   "cell_type": "code",
   "execution_count": 15,
   "id": "75f2b71b-b3c7-4d7c-8c4a-7662665e2533",
   "metadata": {},
   "outputs": [],
   "source": [
    "from matplotlib import pyplot as plt\n",
    "import numpy as np\n",
    "import ipywidgets as widgets\n",
    "from IPython.display import display"
   ]
  },
  {
   "cell_type": "code",
   "execution_count": 16,
   "id": "22e91df7-5907-4af1-820d-e9f8d7507568",
   "metadata": {},
   "outputs": [
    {
     "data": {
      "application/vnd.jupyter.widget-view+json": {
       "model_id": "0b01d75d13ba413cb7cf708a4cc92477",
       "version_major": 2,
       "version_minor": 0
      },
      "text/plain": [
       "Box(children=(IntSlider(value=20000, description='月の生活費:', max=1000000, min=10000, step=10000), IntSlider(valu…"
      ]
     },
     "metadata": {},
     "output_type": "display_data"
    },
    {
     "data": {
      "application/vnd.jupyter.widget-view+json": {
       "model_id": "764c97d66292422482b7c5bb8921eac0",
       "version_major": 2,
       "version_minor": 0
      },
      "text/plain": [
       "Box(children=(IntSlider(value=20000, description='月の積立金:', max=1000000, step=10000), FloatSlider(value=4.0, de…"
      ]
     },
     "metadata": {},
     "output_type": "display_data"
    },
    {
     "data": {
      "application/vnd.jupyter.widget-view+json": {
       "model_id": "fad694a8700e479e92e34ad33e2916ae",
       "version_major": 2,
       "version_minor": 0
      },
      "text/plain": [
       "Box(children=(IntSlider(value=10, description='年数:', max=50, min=1), Button(description='シミュレーション', style=Butt…"
      ]
     },
     "metadata": {},
     "output_type": "display_data"
    },
    {
     "data": {
      "application/vnd.jupyter.widget-view+json": {
       "model_id": "d8b5dc5a9ac0414a93d418c33da25ee9",
       "version_major": 2,
       "version_minor": 0
      },
      "text/plain": [
       "Output()"
      ]
     },
     "metadata": {},
     "output_type": "display_data"
    },
    {
     "data": {
      "application/vnd.jupyter.widget-view+json": {
       "model_id": "fa1227dd0fc647e8a9da10ba6bff2c67",
       "version_major": 2,
       "version_minor": 0
      },
      "text/plain": [
       "Output()"
      ]
     },
     "metadata": {},
     "output_type": "display_data"
    }
   ],
   "source": [
    "out_text = '最終金額:{0:,},年間生活費:{1:,}\\n年間利息:{2:,},FIRE倍率:{3}\\n'\n",
    "\n",
    "def show_widgets():\n",
    "    button = widgets.Button(description='シミュレーション')\n",
    "    s0 = widgets.IntSlider(value=20000 ,  min =10000 , max=1000000, step=10000 , description='月の生活費:')\n",
    "    s1 = widgets.IntSlider(value=200000 ,  min =0 , max=10000000, step=10000 , description='初期金額:')\n",
    "    s2 = widgets.IntSlider(value=20000 ,  min =0 , max=1000000, step=10000 , description='月の積立金:')\n",
    "    s3 = widgets.FloatSlider(value=4.0 ,  min =0.1 , max=20.0, step=0.1 , description='利率:')\n",
    "    s4 = widgets.IntSlider(value=10 ,  min =1 , max=50, step=1 , description='年数:')\n",
    "    output0 = widgets.Output(Layour={'border': '1px solid black'})\n",
    "    output1 = widgets.Output()\n",
    "    ax = plt.gca()\n",
    "    \n",
    "    def on_click(b: widgets.Button)->None:\n",
    "        ax.clear()\n",
    "        cost = s0.value\n",
    "        initial = s1.value\n",
    "        reserve = s2.value\n",
    "        rate = s3.value\n",
    "        year = s4.value\n",
    "        rand_x = []\n",
    "        money = initial\n",
    "        for i in range(1,year):\n",
    "            money += reserve * 12\n",
    "            money = int(money*(1+rate/100))\n",
    "            rand_x.append(money)\n",
    "        f_rate = money / (cost * 12)\n",
    "        result = '{0:.4}倍'.format(f_rate)\n",
    "        Interest = int(money*(rate/100))\n",
    "        ax.plot(list(range(1,len(rand_x)+1)),rand_x)\n",
    "        ax.yaxis.set_major_formatter(plt.FuncFormatter(lambda x, loc: \"{:,}\".format(int(x))))\n",
    "        with output0:\n",
    "            output0.clear_output(wait=True)\n",
    "            out = out_text.format(money, cost* 12, Interest, result)\n",
    "            if f_rate>25:\n",
    "                out += 'FIRE達成しました!!'\n",
    "            print(out)\n",
    "        with output1:\n",
    "            output1.clear_output(wait=True)\n",
    "            display(ax.figure)\n",
    "            \n",
    "    button.on_click(on_click)\n",
    "    box1 = widgets.Box([s0,s1])\n",
    "    box2 = widgets.Box([s2,s3])\n",
    "    box3 = widgets.Box([s4,button])\n",
    "    display(box1 ,box2 ,box3 ,output0 ,output1)\n",
    "    plt.close()\n",
    "    button.click()\n",
    "show_widgets()"
   ]
  },
  {
   "cell_type": "code",
   "execution_count": null,
   "id": "1d7f3522-eed0-4e86-8daf-4ab6b6e8d909",
   "metadata": {},
   "outputs": [],
   "source": []
  },
  {
   "cell_type": "code",
   "execution_count": null,
   "id": "673a946e-8d91-4f2d-9e0e-296140c99ebc",
   "metadata": {},
   "outputs": [],
   "source": []
  }
 ],
 "metadata": {
  "kernelspec": {
   "display_name": "Python 3 (ipykernel)",
   "language": "python",
   "name": "python3"
  },
  "language_info": {
   "codemirror_mode": {
    "name": "ipython",
    "version": 3
   },
   "file_extension": ".py",
   "mimetype": "text/x-python",
   "name": "python",
   "nbconvert_exporter": "python",
   "pygments_lexer": "ipython3",
   "version": "3.7.16"
  }
 },
 "nbformat": 4,
 "nbformat_minor": 5
}
